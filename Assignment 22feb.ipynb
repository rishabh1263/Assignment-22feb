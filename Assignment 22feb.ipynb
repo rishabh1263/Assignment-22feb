{
 "cells": [
  {
   "cell_type": "code",
   "execution_count": 10,
   "id": "3f72df54",
   "metadata": {},
   "outputs": [
    {
     "name": "stdout",
     "output_type": "stream",
     "text": [
      "0     4\n",
      "1     8\n",
      "2    15\n",
      "3    16\n",
      "4    23\n",
      "5    42\n",
      "dtype: int64\n"
     ]
    }
   ],
   "source": [
    "#Q1:\n",
    "\n",
    "import pandas as pd\n",
    "\n",
    "data =[4,8,15,16,23,42]\n",
    " \n",
    "ser = pd.Series(data)\n",
    "print(ser)\n"
   ]
  },
  {
   "cell_type": "code",
   "execution_count": 16,
   "id": "bfd6cd43",
   "metadata": {},
   "outputs": [
    {
     "name": "stdout",
     "output_type": "stream",
     "text": [
      "0    r\n",
      "1    i\n",
      "2    s\n",
      "3    h\n",
      "4    a\n",
      "5    b\n",
      "6    h\n",
      "7    s\n",
      "8    i\n",
      "9    n\n",
      "dtype: object\n"
     ]
    },
    {
     "data": {
      "text/plain": [
       "pandas.core.series.Series"
      ]
     },
     "execution_count": 16,
     "metadata": {},
     "output_type": "execute_result"
    }
   ],
   "source": [
    "##Q2:\n",
    "import pandas as pd\n",
    "\n",
    "list = ['r','i','s','h','a','b','h','s','i','n']\n",
    "series = pd.Series(list)\n",
    "print(series)\n",
    "type(series)\n"
   ]
  },
  {
   "cell_type": "code",
   "execution_count": 2,
   "id": "becbcc6f",
   "metadata": {},
   "outputs": [
    {
     "data": {
      "text/html": [
       "<div>\n",
       "<style scoped>\n",
       "    .dataframe tbody tr th:only-of-type {\n",
       "        vertical-align: middle;\n",
       "    }\n",
       "\n",
       "    .dataframe tbody tr th {\n",
       "        vertical-align: top;\n",
       "    }\n",
       "\n",
       "    .dataframe thead th {\n",
       "        text-align: right;\n",
       "    }\n",
       "</style>\n",
       "<table border=\"1\" class=\"dataframe\">\n",
       "  <thead>\n",
       "    <tr style=\"text-align: right;\">\n",
       "      <th></th>\n",
       "      <th>Numbers</th>\n",
       "    </tr>\n",
       "  </thead>\n",
       "  <tbody>\n",
       "    <tr>\n",
       "      <th>0</th>\n",
       "      <td>10</td>\n",
       "    </tr>\n",
       "    <tr>\n",
       "      <th>1</th>\n",
       "      <td>20</td>\n",
       "    </tr>\n",
       "    <tr>\n",
       "      <th>2</th>\n",
       "      <td>30</td>\n",
       "    </tr>\n",
       "    <tr>\n",
       "      <th>3</th>\n",
       "      <td>40</td>\n",
       "    </tr>\n",
       "    <tr>\n",
       "      <th>4</th>\n",
       "      <td>50</td>\n",
       "    </tr>\n",
       "    <tr>\n",
       "      <th>5</th>\n",
       "      <td>60</td>\n",
       "    </tr>\n",
       "  </tbody>\n",
       "</table>\n",
       "</div>"
      ],
      "text/plain": [
       "   Numbers\n",
       "0       10\n",
       "1       20\n",
       "2       30\n",
       "3       40\n",
       "4       50\n",
       "5       60"
      ]
     },
     "execution_count": 2,
     "metadata": {},
     "output_type": "execute_result"
    }
   ],
   "source": [
    "import pandas as pd\n",
    "data = [10,20,30,40,50,60]\n",
    "  \n",
    "# Create the pandas DataFrame with column name is provided explicitly\n",
    "df = pd.DataFrame(data, columns=['Numbers'])\n",
    "  \n",
    "# print dataframe.\n",
    "df\n"
   ]
  },
  {
   "cell_type": "code",
   "execution_count": 7,
   "id": "36fdc5ed",
   "metadata": {},
   "outputs": [
    {
     "name": "stdout",
     "output_type": "stream",
     "text": [
      "     Name  Age  Gender\n",
      "0   Alice   25  Female\n",
      "1     bob   30    Male\n",
      "2  Clarie   27  Female\n"
     ]
    }
   ],
   "source": [
    "##Q3:\n",
    "import pandas as pd \n",
    "\n",
    "data = [['Alice',25,\"Female\"], ['bob',30, \"Male\"], [\"Clarie\", 27, \"Female\"]]\n",
    "df = pd.DataFrame(data, columns = ['Name', \"Age\", \"Gender\"])\n",
    "\n",
    "print(df)"
   ]
  },
  {
   "cell_type": "markdown",
   "id": "6acdf7ce",
   "metadata": {},
   "source": [
    "##Q4:\n",
    "What is pandas series and a DataFrame in Python differentiate between them with an example?\n",
    "Series in pandas contains a single list which can store heterogeneous type of data, because of this, series is also considered as a 1-dimensional data structure. On the other hand, DataFrame is a 2-dimensional data structure which contains multiple lists of heterogeneous type of data.\n",
    "\n",
    "Series:\n",
    "\n",
    "# Importing pandas package\n",
    "import pandas as pd\n",
    "\n",
    "# Create dictionary\n",
    "d = {'one':[1,2,3,4,5,6]}\n",
    "\n",
    "# Create series\n",
    "ser = pd.Series(d)\n",
    "\n",
    "# Display series\n",
    "print(\"Created Series:\\n\",ser)\n",
    "\n",
    "\n",
    "DataFrame:\n",
    "\n",
    "# Importing pandas package\n",
    "import pandas as pd\n",
    "\n",
    "# Create dictionary\n",
    "d = {\n",
    "    'a':['This','It','It'],\n",
    "    'b':['is','contain','is'],\n",
    "    'c':['a','multiple','2-D'],\n",
    "    'd':['DataFrame','rows and columns','Data structure']\n",
    "}\n",
    "\n",
    "# Create DataFrame\n",
    "df = pd.DataFrame(d)\n",
    "\n",
    "# Display DataFrame\n",
    "print(\"Created DataFrame:\\n\",df)\n"
   ]
  },
  {
   "cell_type": "markdown",
   "id": "617ca0ad",
   "metadata": {},
   "source": [
    "##Q5:\n",
    "Pandas Functions to get Deeper Insights into the Dataset\n",
    "isnull() This function helps you to check if there in which row and which column your data has missing values. ...\n",
    "fillna() This function is used to replace missing values or NaN in the df with user-defined values. ...\n",
    "sort_values() ...\n",
    "df.value_counts()\n",
    "\n"
   ]
  },
  {
   "cell_type": "markdown",
   "id": "772226ed",
   "metadata": {},
   "source": [
    "##Q6:\n",
    "\n",
    "andas deals with the following three data structures −\n",
    "\n",
    "Series\n",
    "DataFrame\n",
    "Panel\n",
    "These data structures are built on top of Numpy array, which means they are fast.\n",
    "\n",
    "Dimension & Description\n",
    "The best way to think of these data structures is that the higher dimensional data structure is a container of its lower dimensional data structure. For example, DataFrame is a container of Series, Panel is a container of DataFrame.\n",
    "\n",
    "Data Structure\tDimensions\tDescription\n",
    "Series\t1\t1D labeled homogeneous array, sizeimmutable.\n",
    "Data Frames\t2\tGeneral 2D labeled, size-mutable tabular structure with potentially heterogeneously typed columns.\n",
    "Panel\t3\tGeneral 3D labeled, size-mutable array.\n",
    "Building and handling two or more dimensional arrays is a tedious task, burden is placed on the user to consider the orientation of the data set when writing functions. But using Pandas data structures, the mental effort of the user is reduced.\n",
    "\n",
    "For example, with tabular data (DataFrame) it is more semantically helpful to think of the index (the rows) and the columns rather than axis 0 and axis 1.\n",
    "\n",
    "Mutability\n",
    "All Pandas data structures are value mutable (can be changed) and except Series all are size mutable. Series is size immutable.\n",
    "\n",
    "Note − DataFrame is widely used and one of the most important data structures. Panel is used much less.\n",
    "\n",
    "Series\n",
    "Series is a one-dimensional array like structure with homogeneous data. For example, the following series is a collection of integers 10, 23, 56, …\n",
    "\n",
    "10\t23\t56\t17\t52\t61\t73\t90\t26\t72\n",
    "Key Points\n",
    "Homogeneous data\n",
    "Size Immutable\n",
    "Values of Data Mutable\n",
    "DataFrame\n",
    "DataFrame is a two-dimensional array with heterogeneous data. For example,\n",
    "\n",
    "Name\tAge\tGender\tRating\n",
    "Steve\t32\tMale\t3.45\n",
    "Lia\t28\tFemale\t4.6\n",
    "Vin\t45\tMale\t3.9\n",
    "Katie\t38\tFemale\t2.78\n",
    "The table represents the data of a sales team of an organization with their overall performance rating. The data is represented in rows and columns. Each column represents an attribute and each row represents a person.\n",
    "\n",
    "Data Type of Columns\n",
    "The data types of the four columns are as follows −\n",
    "\n",
    "Column\tType\n",
    "Name\tString\n",
    "Age\tInteger\n",
    "Gender\tString\n",
    "Rating\tFloat\n",
    "Key Points\n",
    "Heterogeneous data\n",
    "Size Mutable\n",
    "Data Mutable\n",
    "Panel\n",
    "Panel is a three-dimensional data structure with heterogeneous data. It is hard to represent the panel in graphical representation. But a panel can be illustrated as a container of DataFrame.\n",
    "\n",
    "Key Points\n",
    "Heterogeneous data\n",
    "Size Mutable\n",
    "Data Mutable"
   ]
  },
  {
   "cell_type": "code",
   "execution_count": 21,
   "id": "683d17cf",
   "metadata": {},
   "outputs": [
    {
     "data": {
      "text/html": [
       "<div>\n",
       "<style scoped>\n",
       "    .dataframe tbody tr th:only-of-type {\n",
       "        vertical-align: middle;\n",
       "    }\n",
       "\n",
       "    .dataframe tbody tr th {\n",
       "        vertical-align: top;\n",
       "    }\n",
       "\n",
       "    .dataframe thead th {\n",
       "        text-align: right;\n",
       "    }\n",
       "</style>\n",
       "<table border=\"1\" class=\"dataframe\">\n",
       "  <thead>\n",
       "    <tr style=\"text-align: right;\">\n",
       "      <th></th>\n",
       "      <th>0</th>\n",
       "      <th>1</th>\n",
       "    </tr>\n",
       "  </thead>\n",
       "  <tbody>\n",
       "    <tr>\n",
       "      <th>a</th>\n",
       "      <td>3.0</td>\n",
       "      <td>NaN</td>\n",
       "    </tr>\n",
       "    <tr>\n",
       "      <th>b</th>\n",
       "      <td>4.0</td>\n",
       "      <td>5.0</td>\n",
       "    </tr>\n",
       "    <tr>\n",
       "      <th>c</th>\n",
       "      <td>NaN</td>\n",
       "      <td>6.0</td>\n",
       "    </tr>\n",
       "  </tbody>\n",
       "</table>\n",
       "</div>"
      ],
      "text/plain": [
       "     0    1\n",
       "a  3.0  NaN\n",
       "b  4.0  5.0\n",
       "c  NaN  6.0"
      ]
     },
     "execution_count": 21,
     "metadata": {},
     "output_type": "execute_result"
    }
   ],
   "source": [
    "s1 = pd.Series([3,4], index=[\"a\",\"b\"])\n",
    "s2 = pd.Series([5,6], index=[\"b\",\"c\"])\n",
    "pd.concat([s1,s2], axis = 1)"
   ]
  },
  {
   "cell_type": "code",
   "execution_count": null,
   "id": "193f4fb3",
   "metadata": {},
   "outputs": [],
   "source": []
  }
 ],
 "metadata": {
  "kernelspec": {
   "display_name": "Python 3 (ipykernel)",
   "language": "python",
   "name": "python3"
  },
  "language_info": {
   "codemirror_mode": {
    "name": "ipython",
    "version": 3
   },
   "file_extension": ".py",
   "mimetype": "text/x-python",
   "name": "python",
   "nbconvert_exporter": "python",
   "pygments_lexer": "ipython3",
   "version": "3.9.13"
  }
 },
 "nbformat": 4,
 "nbformat_minor": 5
}
